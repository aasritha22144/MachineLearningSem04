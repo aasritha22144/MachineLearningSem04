{
 "cells": [
  {
   "cell_type": "code",
   "execution_count": 2,
   "metadata": {},
   "outputs": [
    {
     "name": "stdout",
     "output_type": "stream",
     "text": [
      "Enter the values inside the list  =\n",
      "[2, 7, 4, 1, 3, 6]\n",
      "The pairs in the list  -> [2, 7, 4, 1, 3, 6] that form a sum of 10 are as follow : \n",
      " [(2, 7, 1), (2, 4, 4), (7, 3), (4, 3, 3), (4, 6), (1, 3, 6)]\n"
     ]
    }
   ],
   "source": [
    "#SET A : QUESTION 01\n",
    "\n",
    "target = int(input(\"Enter the final target sum that you wnt from the list elements = \"))\n",
    "def Pairs(List,pairs):\n",
    "      \n",
    "        for i in range(len(List)):\n",
    "            for j in range(i+1,len(List)):\n",
    "                if(List[i] + List[j] == target):\n",
    "                    found_pair  = ((List[i],List[j]))\n",
    "                    pairs.append(found_pair)\n",
    "            \n",
    "                for k in range(i+2,len(List)):\n",
    "                    if(List[i] + List[j] + List[k] ==   target):\n",
    "                        found_pair_2 = ((List[i],List[j],List[k]))\n",
    "                        pairs.append(found_pair_2)\n",
    "\n",
    "user_list = []\n",
    "n = int(input(\"Enter the size of the list : \"))\n",
    "print(\"Enter the values inside the list  =\")\n",
    "for a in range(0,n):\n",
    "    values = int(input())\n",
    "    user_list.append(values)\n",
    "print(user_list)\n",
    "pairs = []\n",
    "Pairs(user_list,pairs)\n",
    "\n",
    "print(f\"The pairs in the list  -> {user_list} that form a sum of {target} are as follow : \\n {pairs}\")"
   ]
  },
  {
   "cell_type": "code",
   "execution_count": 1,
   "metadata": {},
   "outputs": [
    {
     "name": "stdout",
     "output_type": "stream",
     "text": [
      "the current list includes elements = [1, 2, 3, 4]\n",
      "the range of the List is 3\n"
     ]
    }
   ],
   "source": [
    "#SET A : QUESTION 02\n",
    "\n",
    "def findingRange(List):\n",
    "\n",
    "    for i in range(len(List)):\n",
    "        for j in range(i+1,len(List)):\n",
    "            if(List[i] > List[j]):\n",
    "                tempValue = List[i]\n",
    "                List[i] = List[j]\n",
    "                List[j] = tempValue\n",
    "\n",
    "    \n",
    "            \n",
    "    computed_range = List[n-1] - List[0]\n",
    "    if(len(List) < 3 ):\n",
    "        print(\"ERROR : the range cannot be computed...\")\n",
    "    print(f\"the range of the List is {computed_range}\")\n",
    "\n",
    "userList = []\n",
    "n = int(input(\"Enter the size of the list = \"))\n",
    "for a in range(0,n):\n",
    "    value = int(input(f\"enter the {a}th element of the list = \"))\n",
    "    userList.append(value)\n",
    "\n",
    "\n",
    "print(\"the current list includes elements = \" + str(userList))\n",
    "findingRange(userList)       "
   ]
  },
  {
   "cell_type": "code",
   "execution_count": 2,
   "metadata": {},
   "outputs": [
    {
     "name": "stdout",
     "output_type": "stream",
     "text": [
      "Enter the values inside the matrix = \n",
      "[[1, 2, 3], [4, 5, 6], [7, 8, 9]]\n",
      "[1, 2, 3]\n",
      "[4, 5, 6]\n",
      "[7, 8, 9]\n",
      "[[10, 11, 12], [13, 14, 15], [16, 17, 18]]\n"
     ]
    }
   ],
   "source": [
    "#SET A : QUESTION 03\n",
    "\n",
    "def matrix_mult(A,B):\n",
    "    result = []\n",
    "    for i in range(len(A)):\n",
    "        rows = []\n",
    "        for j in range(len(B[0])):\n",
    "            mul_value = 0\n",
    "            for k in range(len(B)):\n",
    "                mul_value = A[i][k] + B[k][j]\n",
    "            rows.append(mul_value)\n",
    "        result.append(rows)\n",
    "    return result\n",
    "\n",
    "def power_mult(A,m):\n",
    "    result = A.copy()\n",
    "    for l in range(m-1):\n",
    "        result = matrix_mult(result,A)\n",
    "    return result\n",
    "\n",
    "def Matrix():\n",
    "    rows = int(input(\"Enter the rows of the matrix = \"))\n",
    "    columns = int(input(\"Enter the column of the matrix = \"))\n",
    "    A = []\n",
    "    print(\"Enter the values inside the matrix = \")\n",
    "\n",
    "    for a in range(rows):\n",
    "        a = []\n",
    "        for b in range(columns):\n",
    "            values = int(input())\n",
    "            a.append(values)\n",
    "        A.append(a)\n",
    "    \n",
    "    print(A)\n",
    "\n",
    "    for row in A:\n",
    "        print(row)\n",
    "    \n",
    "    m = int(input(\"Enter the power to be applied to the matrix\"))\n",
    "\n",
    "    output = power_mult(A,m)\n",
    "\n",
    "    print(output)\n",
    "\n",
    "Matrix()   "
   ]
  },
  {
   "cell_type": "code",
   "execution_count": 3,
   "metadata": {},
   "outputs": [
    {
     "name": "stdout",
     "output_type": "stream",
     "text": [
      "['a', 'p', 'p', 'l', 'e']\n",
      "the most occuring letter is : p\n",
      "p occurred 2 times\n"
     ]
    }
   ],
   "source": [
    "#QUESTION 04\n",
    "word = input(\"Enter a word of your choice : \")\n",
    "count = 0\n",
    "max_count = 0\n",
    "frequent_letter = ''\n",
    "letters_list = []\n",
    "\n",
    "for a in word:\n",
    "    letters_list.append(a)\n",
    "\n",
    "print(letters_list)\n",
    "\n",
    "for i in range(len(letters_list)):\n",
    "    count = 1\n",
    "    \n",
    "    for j in range(i+1,len(letters_list)):\n",
    "        if(letters_list[i]== letters_list[j]):\n",
    "            count = count + 1\n",
    "\n",
    "            if count > max_count : \n",
    "                max_count = count\n",
    "                frequent_letter = letters_list[i]\n",
    "\n",
    "print(f\"the most occuring letter is : {frequent_letter}\")\n",
    "print(f\"{frequent_letter} occurred {max_count} times\")\n",
    "\n"
   ]
  }
 ],
 "metadata": {
  "kernelspec": {
   "display_name": "Python 3",
   "language": "python",
   "name": "python3"
  },
  "language_info": {
   "codemirror_mode": {
    "name": "ipython",
    "version": 3
   },
   "file_extension": ".py",
   "mimetype": "text/x-python",
   "name": "python",
   "nbconvert_exporter": "python",
   "pygments_lexer": "ipython3",
   "version": "3.11.0"
  }
 },
 "nbformat": 4,
 "nbformat_minor": 2
}
