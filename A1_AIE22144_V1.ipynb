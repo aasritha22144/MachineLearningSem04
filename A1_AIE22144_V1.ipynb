{
 "cells": [
  {
   "cell_type": "code",
   "execution_count": 2,
   "metadata": {},
   "outputs": [
    {
     "name": "stdout",
     "output_type": "stream",
     "text": [
      "the total number of vowels are : 2\n",
      "the total number of consonant are : 3\n"
     ]
    }
   ],
   "source": [
    "#SET B : QUESTION 01\n",
    "letters = []\n",
    "def VowelOrConsonant(word):\n",
    "    vowel_count = 0\n",
    "    consonant_count = 0     \n",
    "    for i in word:\n",
    "        letters.append(i)\n",
    "        if(i=='a' or i =='e' or i == 'i' or i=='o' or i =='u'):\n",
    "            vowel_count = vowel_count + 1\n",
    "        else:\n",
    "            consonant_count = consonant_count + 1\n",
    "    print(f\"the total number of vowels are : {vowel_count}\")\n",
    "    print(f\"the total number of consonant are : {consonant_count}\")\n",
    "\n",
    "user_word = input(\"Enter any word of your choice : \")\n",
    "VowelOrConsonant(user_word)\n"
   ]
  },
  {
   "cell_type": "code",
   "execution_count": 7,
   "metadata": {},
   "outputs": [
    {
     "name": "stdout",
     "output_type": "stream",
     "text": [
      "Enter the values inside the matrix A : \n",
      "Enter the values inside the matrix B : \n",
      "the final product of the two matrices is : [[30, 24, 18], [84, 69, 54], [138, 114, 90]]\n"
     ]
    }
   ],
   "source": [
    "#SET B : QUESTION 02\n",
    "\n",
    "def matrixMultiplication(A,B):\n",
    "    output = []\n",
    "    for i in range(len(A)):\n",
    "        row =[]\n",
    "        for j in range(len(B[0])):\n",
    "            multiplied_value = 0\n",
    "            for k in range(len(B)):\n",
    "                multiplied_value += A[i][k] * B[k][j]\n",
    "            row.append(multiplied_value)\n",
    "        output.append(row)\n",
    "    return output\n",
    "\n",
    "matA = []\n",
    "matB = []\n",
    "rowA = int(input(\"Enter the number of rows of Matrix A\"))\n",
    "columnA = int(input(\"Enter the number of columns of Matrix A\"))\n",
    "\n",
    "print(\"Enter the values inside the matrix A : \")\n",
    "for a in range(rowA):\n",
    "    temp_a = []\n",
    "    for b in range(columnA):\n",
    "        values = int(input())\n",
    "        temp_a.append(values)\n",
    "    matA.append(temp_a)\n",
    "\n",
    "rowB = int(input(\"Enter the number of rows of Matrix B\"))\n",
    "columnB = int(input(\"Enter the number of columns of Matrix B\"))\n",
    "\n",
    "print(\"Enter the values inside the matrix B : \")\n",
    "for a in range(rowB):\n",
    "    temp_b = []\n",
    "    for b in range(columnB):\n",
    "        values = int(input())\n",
    "        temp_b.append(values)\n",
    "    matB.append(temp_b)\n",
    "\n",
    "\n",
    "if columnA != rowB:\n",
    "    print(\"Error : The two matrices cannot be multiplied\")\n",
    "\n",
    "else:\n",
    "\n",
    "    print(f\"the final product of the two matrices is : {matrixMultiplication(matA,matB)}\")\n",
    "\n",
    "\n"
   ]
  },
  {
   "cell_type": "code",
   "execution_count": 11,
   "metadata": {},
   "outputs": [
    {
     "name": "stdout",
     "output_type": "stream",
     "text": [
      "Enter the values in list A\n",
      "List A elements : [1, 2, 4, 5]\n",
      "Enter the values in list B\n",
      "List B elements : [2, 4, 1, 6]\n",
      "the common elements are [1, 2, 4]\n"
     ]
    }
   ],
   "source": [
    "#SET B : QUESTION 03\n",
    "\n",
    "def CommonElements(A,B):\n",
    "    common_elements = []\n",
    "    for i in A:\n",
    "        for j in B:\n",
    "            if (i==j):\n",
    "                common_elements.append(i)\n",
    "    \n",
    "    return common_elements\n",
    "\n",
    "listA = []\n",
    "listB = []\n",
    "\n",
    "sizeA = int(input(\"Enter the size of listA =\"))\n",
    "sizeB = int(input(\"Enter the size of listB =\"))\n",
    "\n",
    "print(\"Enter the values in list A\")\n",
    "for a in range(0,sizeA):\n",
    "    valuesA = int(input())\n",
    "    listA.append(valuesA)\n",
    "\n",
    "print(f\"List A elements : {listA}\")\n",
    "\n",
    "print(\"Enter the values in list B\")\n",
    "for b in range(0,sizeB):\n",
    "    valuesB = int(input())\n",
    "    listB.append(valuesB)\n",
    "\n",
    "print(f\"List B elements : {listB}\")\n",
    "\n",
    "print(f\"the common elements are {CommonElements(listA,listB)}\")"
   ]
  },
  {
   "cell_type": "code",
   "execution_count": 14,
   "metadata": {},
   "outputs": [
    {
     "name": "stdout",
     "output_type": "stream",
     "text": [
      "ENTER ELEMENTS IN A MATRIX : \n",
      "ORIGINAL MATRIX :\n",
      "[1, 2]\n",
      "[3, 4]\n",
      "[1, 3]\n",
      "[2, 4]\n"
     ]
    }
   ],
   "source": [
    "#SET B : QUESTION 04\n",
    "def transpose_matrix(matrix):\n",
    "    num_rows = len(matrix)\n",
    "    num_columns = len(matrix[0])\n",
    "\n",
    "\n",
    "    transposed_matrix = [[0 for _ in range(num_rows)] for _ in range(num_columns)]\n",
    "\n",
    "   \n",
    "    for i in range(num_rows):\n",
    "        for j in range(num_columns):\n",
    "            transposed_matrix[j][i] = matrix[i][j]\n",
    "\n",
    "    return transposed_matrix\n",
    "\n",
    "rows = int(input(\"ENTER NUMBER OF ROWS IN A MATRIX: \"))\n",
    "columns = int(input(\"ENTER NUMBER OF COLUMNS IN A MATRIX: \"))\n",
    "\n",
    "   \n",
    "print(\"ENTER ELEMENTS IN A MATRIX : \")\n",
    "matrix = []\n",
    "for i in range(rows):\n",
    "    row = [int(x) for x in input().split()]\n",
    "    matrix.append(row)\n",
    "\n",
    "    \n",
    "transposed_matrix = transpose_matrix(matrix)\n",
    "\n",
    "  \n",
    "print(\"ORIGINAL MATRIX :\")\n",
    "for row in matrix:\n",
    "    print(row)\n",
    "\n",
    "   \n",
    "for row in transposed_matrix:\n",
    "    print(row)\n",
    "\n"
   ]
  },
  {
   "cell_type": "code",
   "execution_count": null,
   "metadata": {},
   "outputs": [],
   "source": []
  }
 ],
 "metadata": {
  "kernelspec": {
   "display_name": "Python 3",
   "language": "python",
   "name": "python3"
  },
  "language_info": {
   "codemirror_mode": {
    "name": "ipython",
    "version": 3
   },
   "file_extension": ".py",
   "mimetype": "text/x-python",
   "name": "python",
   "nbconvert_exporter": "python",
   "pygments_lexer": "ipython3",
   "version": "3.11.0"
  }
 },
 "nbformat": 4,
 "nbformat_minor": 2
}
