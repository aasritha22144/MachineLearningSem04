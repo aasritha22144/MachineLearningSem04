{
 "cells": [
  {
   "cell_type": "code",
   "execution_count": 4,
   "metadata": {},
   "outputs": [
    {
     "name": "stdout",
     "output_type": "stream",
     "text": [
      "count with a sum of 10: 2\n",
      "pairs with a sum of 10: [(7, 3), (4, 6)]\n"
     ]
    }
   ],
   "source": [
    "#QUESTION 01\n",
    "def sum(ist, final_sum):\n",
    "    pairs=[]\n",
    "    numbers= set()\n",
    "    count=0\n",
    "    for value in ist:\n",
    "        complement= final_sum - value\n",
    "        if complement in numbers:\n",
    "            pairs.append((complement,value))\n",
    "            count += 1\n",
    "        numbers.add(value)\n",
    "    return count,pairs\n",
    "input_list=list(map(int,input(\"Enter the numbers:\").split()))\n",
    "final_sum=int(input(\"Enter the target sum:\"))\n",
    "final_count, final_pairs =sum(input_list,final_sum)\n",
    "if final_count > 0:\n",
    "    print(f\"count with a sum of {final_sum}: {final_count}\")\n",
    "    print(f\"pairs with a sum of {final_sum}: {final_pairs}\")\n",
    "else:\n",
    "    print(f\"No pairs found{final_sum}\")"
   ]
  },
  {
   "cell_type": "code",
   "execution_count": 5,
   "metadata": {},
   "outputs": [
    {
     "name": "stdout",
     "output_type": "stream",
     "text": [
      "range [5.0, 3.0, 8.0, 1.0, 0.0, 4.0] is: 8.0\n"
     ]
    }
   ],
   "source": [
    "#QUESTION 02\n",
    "\n",
    "def range(numbers):\n",
    "    if len(numbers) < 3:\n",
    "        return \"Range not posssible\"\n",
    "    minimum_number = min(numbers)\n",
    "    maximum_number = max(numbers)\n",
    "    return maximum_number - minimum_number\n",
    "try:\n",
    "    input_list = [float(x) for x in input(\"Enter the numbers: \").split()]\n",
    "except ValueError:\n",
    "    print(\"Invalid input.Enter valid real numbers.\")\n",
    "    exit()\n",
    "result = range(input_list)\n",
    "print(f\"range {input_list} is: {result}\")\n",
    "\n"
   ]
  },
  {
   "cell_type": "code",
   "execution_count": 16,
   "metadata": {},
   "outputs": [
    {
     "ename": "TypeError",
     "evalue": "'str' object is not callable",
     "output_type": "error",
     "traceback": [
      "\u001b[0;31m---------------------------------------------------------------------------\u001b[0m",
      "\u001b[0;31mTypeError\u001b[0m                                 Traceback (most recent call last)",
      "Cell \u001b[0;32mIn[16], line 45\u001b[0m\n\u001b[1;32m     41\u001b[0m     output \u001b[38;5;241m=\u001b[39m power_mult(A,m)\n\u001b[1;32m     43\u001b[0m     \u001b[38;5;28mprint\u001b[39m(output)\n\u001b[0;32m---> 45\u001b[0m \u001b[43mMatrix\u001b[49m\u001b[43m(\u001b[49m\u001b[43m)\u001b[49m\n",
      "Cell \u001b[0;32mIn[16], line 22\u001b[0m, in \u001b[0;36mMatrix\u001b[0;34m()\u001b[0m\n\u001b[1;32m     21\u001b[0m \u001b[38;5;28;01mdef\u001b[39;00m \u001b[38;5;21mMatrix\u001b[39m():\n\u001b[0;32m---> 22\u001b[0m     rows \u001b[38;5;241m=\u001b[39m \u001b[38;5;28mint\u001b[39m(\u001b[38;5;28;43minput\u001b[39;49m\u001b[43m(\u001b[49m\u001b[38;5;124;43m\"\u001b[39;49m\u001b[38;5;124;43mEnter the rows of the matrix = \u001b[39;49m\u001b[38;5;124;43m\"\u001b[39;49m\u001b[43m)\u001b[49m)\n\u001b[1;32m     23\u001b[0m     columns \u001b[38;5;241m=\u001b[39m \u001b[38;5;28mint\u001b[39m(\u001b[38;5;28minput\u001b[39m(\u001b[38;5;124m\"\u001b[39m\u001b[38;5;124mEnter the column of the matrix = \u001b[39m\u001b[38;5;124m\"\u001b[39m))\n\u001b[1;32m     24\u001b[0m     A \u001b[38;5;241m=\u001b[39m []\n",
      "\u001b[0;31mTypeError\u001b[0m: 'str' object is not callable"
     ]
    }
   ],
   "source": [
    "# running this in seperate python file is giving orrect output \n",
    "\n",
    "def matrix_mult(A,B):\n",
    "    result = []\n",
    "    for i in range(len(A)):\n",
    "        rows = []\n",
    "        for j in range(len(B[0])):\n",
    "            sum_value = 0\n",
    "            for k in range(len(B)):\n",
    "                sum_value = A[i][k] + B[k][j]\n",
    "            rows.append(sum_value)\n",
    "        result.append(rows)\n",
    "    return result\n",
    "\n",
    "def power_mult(A,m):\n",
    "    result = A.copy()\n",
    "    for l in range(m-1):\n",
    "        result = matrix_mult(result,A)\n",
    "    return result\n",
    "\n",
    "def Matrix():\n",
    "    rows = int(input(\"Enter the rows of the matrix = \"))\n",
    "    columns = int(input(\"Enter the column of the matrix = \"))\n",
    "    A = []\n",
    "    print(\"Enter the values inside the matrix = \")\n",
    "\n",
    "    for a in range(rows):\n",
    "        a = []\n",
    "        for b in range(columns):\n",
    "            values = int(input())\n",
    "            a.append(values)\n",
    "        A.append(a)\n",
    "    \n",
    "    print(A)\n",
    "\n",
    "    for row in A:\n",
    "        print(row)\n",
    "    \n",
    "    m = int(input(\"Enter the power to be applied to the matrix\"))\n",
    "\n",
    "    output = power_mult(A,m)\n",
    "\n",
    "    print(output)\n",
    "\n",
    "Matrix()"
   ]
  },
  {
   "cell_type": "code",
   "execution_count": 6,
   "metadata": {},
   "outputs": [
    {
     "name": "stdout",
     "output_type": "stream",
     "text": [
      "The most occurring character is 'p' & occurrence count is 3.\n"
     ]
    }
   ],
   "source": [
    "def occurring(input):\n",
    "    string1= ''.join(char.lower() for char in input if char.isalpha())\n",
    "    character_count={}\n",
    "    for char in string1:\n",
    "        character_count[char]=character_count.get(char,0)+1\n",
    "    maximum_character=max(character_count,key=character_count.get)\n",
    "    maximum_count=character_count[maximum_character]\n",
    "    return maximum_character, maximum_count\n",
    "input=input(\"Enter a string:\")\n",
    "final_character, final_count = occurring(input)\n",
    "print(f\"The most occurring character is '{final_character}' & occurrence count is {final_count}.\")"
   ]
  }
 ],
 "metadata": {
  "kernelspec": {
   "display_name": "Python 3",
   "language": "python",
   "name": "python3"
  },
  "language_info": {
   "codemirror_mode": {
    "name": "ipython",
    "version": 3
   },
   "file_extension": ".py",
   "mimetype": "text/x-python",
   "name": "python",
   "nbconvert_exporter": "python",
   "pygments_lexer": "ipython3",
   "version": "3.11.6"
  }
 },
 "nbformat": 4,
 "nbformat_minor": 2
}
